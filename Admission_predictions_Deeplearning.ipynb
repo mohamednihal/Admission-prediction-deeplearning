{
  "nbformat": 4,
  "nbformat_minor": 0,
  "metadata": {
    "colab": {
      "name": "Admission predictions Deeplearning.ipynb",
      "provenance": [],
      "authorship_tag": "ABX9TyPfhu4FuK0aRu0Ftgy4FyLe",
      "include_colab_link": true
    },
    "kernelspec": {
      "name": "python3",
      "display_name": "Python 3"
    },
    "language_info": {
      "name": "python"
    }
  },
  "cells": [
    {
      "cell_type": "markdown",
      "metadata": {
        "id": "view-in-github",
        "colab_type": "text"
      },
      "source": [
        "<a href=\"https://colab.research.google.com/github/mohamednihal/Admission-prediction-deeplearning/blob/main/Admission_predictions_Deeplearning.ipynb\" target=\"_parent\"><img src=\"https://colab.research.google.com/assets/colab-badge.svg\" alt=\"Open In Colab\"/></a>"
      ]
    },
    {
      "cell_type": "code",
      "metadata": {
        "colab": {
          "base_uri": "https://localhost:8080/"
        },
        "id": "jsF6qDCydAhg",
        "outputId": "26acebba-a083-4986-ee9a-76481f3fe768"
      },
      "source": [
        "import pandas as pd\n",
        "import numpy as np\n",
        "import matplotlib.pyplot as plt\n",
        "\n",
        "import tensorflow as tf\n",
        "from tensorflow\timport keras\n",
        "from tensorflow.keras.models import Sequential\n",
        "from tensorflow.keras.callbacks import EarlyStopping\n",
        "from tensorflow.keras import layers\n",
        "\n",
        "from sklearn.model_selection import train_test_split\n",
        "from sklearn.preprocessing import StandardScaler\n",
        "from sklearn.preprocessing import Normalizer\n",
        "from sklearn.metrics import r2_score\n",
        "\n",
        "\n",
        "# load admissions data\n",
        "admissions_data = pd.read_csv(\"admissions_data.csv\")\n",
        "print(admissions_data.head())\n",
        "\n",
        "\n"
      ],
      "execution_count": 19,
      "outputs": [
        {
          "output_type": "stream",
          "text": [
            "   Serial No.  GRE Score  TOEFL Score  University Rating  SOP  LOR   CGPA  \\\n",
            "0           1        337          118                  4  4.5   4.5  9.65   \n",
            "1           2        324          107                  4  4.0   4.5  8.87   \n",
            "2           3        316          104                  3  3.0   3.5  8.00   \n",
            "3           4        322          110                  3  3.5   2.5  8.67   \n",
            "4           5        314          103                  2  2.0   3.0  8.21   \n",
            "\n",
            "   Research  Chance of Admit   \n",
            "0         1              0.92  \n",
            "1         1              0.76  \n",
            "2         1              0.72  \n",
            "3         1              0.80  \n",
            "4         0              0.65  \n"
          ],
          "name": "stdout"
        }
      ]
    },
    {
      "cell_type": "code",
      "metadata": {
        "colab": {
          "base_uri": "https://localhost:8080/"
        },
        "id": "80dWCQqRiTI_",
        "outputId": "0d2682cc-94fa-4dd9-ae48-740ca19aea0f"
      },
      "source": [
        "admissions_data.describe()\n",
        "print(admissions_data.shape)"
      ],
      "execution_count": 5,
      "outputs": [
        {
          "output_type": "stream",
          "text": [
            "(500, 9)\n"
          ],
          "name": "stdout"
        }
      ]
    },
    {
      "cell_type": "code",
      "metadata": {
        "colab": {
          "base_uri": "https://localhost:8080/"
        },
        "id": "dVhwH6Ez2b1y",
        "outputId": "7fe5cb93-865f-4f3e-fdc4-31fd39ad53e3"
      },
      "source": [
        "# mark predicted values\n",
        "labels = admissions_data.iloc[:,-1]\n",
        "print(labels.describe())"
      ],
      "execution_count": 6,
      "outputs": [
        {
          "output_type": "stream",
          "text": [
            "count    500.00000\n",
            "mean       0.72174\n",
            "std        0.14114\n",
            "min        0.34000\n",
            "25%        0.63000\n",
            "50%        0.72000\n",
            "75%        0.82000\n",
            "max        0.97000\n",
            "Name: Chance of Admit , dtype: float64\n"
          ],
          "name": "stdout"
        }
      ]
    },
    {
      "cell_type": "code",
      "metadata": {
        "colab": {
          "base_uri": "https://localhost:8080/",
          "height": 297
        },
        "id": "FgnXjtJt2e9j",
        "outputId": "66a2ddc6-6ad3-4ed9-d915-4e0269284aec"
      },
      "source": [
        "# mark features\n",
        "features = admissions_data.iloc[:, 1:8]\n",
        "features.describe()"
      ],
      "execution_count": 8,
      "outputs": [
        {
          "output_type": "execute_result",
          "data": {
            "text/html": [
              "<div>\n",
              "<style scoped>\n",
              "    .dataframe tbody tr th:only-of-type {\n",
              "        vertical-align: middle;\n",
              "    }\n",
              "\n",
              "    .dataframe tbody tr th {\n",
              "        vertical-align: top;\n",
              "    }\n",
              "\n",
              "    .dataframe thead th {\n",
              "        text-align: right;\n",
              "    }\n",
              "</style>\n",
              "<table border=\"1\" class=\"dataframe\">\n",
              "  <thead>\n",
              "    <tr style=\"text-align: right;\">\n",
              "      <th></th>\n",
              "      <th>GRE Score</th>\n",
              "      <th>TOEFL Score</th>\n",
              "      <th>University Rating</th>\n",
              "      <th>SOP</th>\n",
              "      <th>LOR</th>\n",
              "      <th>CGPA</th>\n",
              "      <th>Research</th>\n",
              "    </tr>\n",
              "  </thead>\n",
              "  <tbody>\n",
              "    <tr>\n",
              "      <th>count</th>\n",
              "      <td>500.000000</td>\n",
              "      <td>500.000000</td>\n",
              "      <td>500.000000</td>\n",
              "      <td>500.000000</td>\n",
              "      <td>500.00000</td>\n",
              "      <td>500.000000</td>\n",
              "      <td>500.000000</td>\n",
              "    </tr>\n",
              "    <tr>\n",
              "      <th>mean</th>\n",
              "      <td>316.472000</td>\n",
              "      <td>107.192000</td>\n",
              "      <td>3.114000</td>\n",
              "      <td>3.374000</td>\n",
              "      <td>3.48400</td>\n",
              "      <td>8.576440</td>\n",
              "      <td>0.560000</td>\n",
              "    </tr>\n",
              "    <tr>\n",
              "      <th>std</th>\n",
              "      <td>11.295148</td>\n",
              "      <td>6.081868</td>\n",
              "      <td>1.143512</td>\n",
              "      <td>0.991004</td>\n",
              "      <td>0.92545</td>\n",
              "      <td>0.604813</td>\n",
              "      <td>0.496884</td>\n",
              "    </tr>\n",
              "    <tr>\n",
              "      <th>min</th>\n",
              "      <td>290.000000</td>\n",
              "      <td>92.000000</td>\n",
              "      <td>1.000000</td>\n",
              "      <td>1.000000</td>\n",
              "      <td>1.00000</td>\n",
              "      <td>6.800000</td>\n",
              "      <td>0.000000</td>\n",
              "    </tr>\n",
              "    <tr>\n",
              "      <th>25%</th>\n",
              "      <td>308.000000</td>\n",
              "      <td>103.000000</td>\n",
              "      <td>2.000000</td>\n",
              "      <td>2.500000</td>\n",
              "      <td>3.00000</td>\n",
              "      <td>8.127500</td>\n",
              "      <td>0.000000</td>\n",
              "    </tr>\n",
              "    <tr>\n",
              "      <th>50%</th>\n",
              "      <td>317.000000</td>\n",
              "      <td>107.000000</td>\n",
              "      <td>3.000000</td>\n",
              "      <td>3.500000</td>\n",
              "      <td>3.50000</td>\n",
              "      <td>8.560000</td>\n",
              "      <td>1.000000</td>\n",
              "    </tr>\n",
              "    <tr>\n",
              "      <th>75%</th>\n",
              "      <td>325.000000</td>\n",
              "      <td>112.000000</td>\n",
              "      <td>4.000000</td>\n",
              "      <td>4.000000</td>\n",
              "      <td>4.00000</td>\n",
              "      <td>9.040000</td>\n",
              "      <td>1.000000</td>\n",
              "    </tr>\n",
              "    <tr>\n",
              "      <th>max</th>\n",
              "      <td>340.000000</td>\n",
              "      <td>120.000000</td>\n",
              "      <td>5.000000</td>\n",
              "      <td>5.000000</td>\n",
              "      <td>5.00000</td>\n",
              "      <td>9.920000</td>\n",
              "      <td>1.000000</td>\n",
              "    </tr>\n",
              "  </tbody>\n",
              "</table>\n",
              "</div>"
            ],
            "text/plain": [
              "        GRE Score  TOEFL Score  University Rating         SOP       LOR   \\\n",
              "count  500.000000   500.000000         500.000000  500.000000  500.00000   \n",
              "mean   316.472000   107.192000           3.114000    3.374000    3.48400   \n",
              "std     11.295148     6.081868           1.143512    0.991004    0.92545   \n",
              "min    290.000000    92.000000           1.000000    1.000000    1.00000   \n",
              "25%    308.000000   103.000000           2.000000    2.500000    3.00000   \n",
              "50%    317.000000   107.000000           3.000000    3.500000    3.50000   \n",
              "75%    325.000000   112.000000           4.000000    4.000000    4.00000   \n",
              "max    340.000000   120.000000           5.000000    5.000000    5.00000   \n",
              "\n",
              "             CGPA    Research  \n",
              "count  500.000000  500.000000  \n",
              "mean     8.576440    0.560000  \n",
              "std      0.604813    0.496884  \n",
              "min      6.800000    0.000000  \n",
              "25%      8.127500    0.000000  \n",
              "50%      8.560000    1.000000  \n",
              "75%      9.040000    1.000000  \n",
              "max      9.920000    1.000000  "
            ]
          },
          "metadata": {
            "tags": []
          },
          "execution_count": 8
        }
      ]
    },
    {
      "cell_type": "code",
      "metadata": {
        "id": "6HKo3BVd2jhJ"
      },
      "source": [
        "#split our training and test set\n",
        "features_train, features_test, labels_train, labels_test = train_test_split(features, labels, test_size=0.25, random_state = 42)\n",
        "\n",
        "# standardizing our data by scaling it\n",
        "sc = StandardScaler()\n",
        "features_train_scale = sc.fit_transform(features_train)\n",
        "features_test_scale = sc.transform(features_test)"
      ],
      "execution_count": 9,
      "outputs": []
    },
    {
      "cell_type": "code",
      "metadata": {
        "colab": {
          "base_uri": "https://localhost:8080/",
          "height": 297
        },
        "id": "i8pX7S602lX5",
        "outputId": "18ab5ba9-bb2a-43f7-f229-9e2513fca313"
      },
      "source": [
        "\n",
        "features_train_scale = pd.DataFrame(features_train_scale, columns = features_train.columns)\n",
        "features_test_scale = pd.DataFrame(features_test_scale, columns = features_test.columns)\n",
        "\n",
        "(features_train_scale.describe())\n",
        "(features_test_scale.describe())"
      ],
      "execution_count": 11,
      "outputs": [
        {
          "output_type": "execute_result",
          "data": {
            "text/html": [
              "<div>\n",
              "<style scoped>\n",
              "    .dataframe tbody tr th:only-of-type {\n",
              "        vertical-align: middle;\n",
              "    }\n",
              "\n",
              "    .dataframe tbody tr th {\n",
              "        vertical-align: top;\n",
              "    }\n",
              "\n",
              "    .dataframe thead th {\n",
              "        text-align: right;\n",
              "    }\n",
              "</style>\n",
              "<table border=\"1\" class=\"dataframe\">\n",
              "  <thead>\n",
              "    <tr style=\"text-align: right;\">\n",
              "      <th></th>\n",
              "      <th>GRE Score</th>\n",
              "      <th>TOEFL Score</th>\n",
              "      <th>University Rating</th>\n",
              "      <th>SOP</th>\n",
              "      <th>LOR</th>\n",
              "      <th>CGPA</th>\n",
              "      <th>Research</th>\n",
              "    </tr>\n",
              "  </thead>\n",
              "  <tbody>\n",
              "    <tr>\n",
              "      <th>count</th>\n",
              "      <td>125.000000</td>\n",
              "      <td>125.000000</td>\n",
              "      <td>125.000000</td>\n",
              "      <td>125.000000</td>\n",
              "      <td>125.000000</td>\n",
              "      <td>125.000000</td>\n",
              "      <td>125.000000</td>\n",
              "    </tr>\n",
              "    <tr>\n",
              "      <th>mean</th>\n",
              "      <td>-0.095242</td>\n",
              "      <td>-0.076851</td>\n",
              "      <td>0.034747</td>\n",
              "      <td>-0.029572</td>\n",
              "      <td>0.040541</td>\n",
              "      <td>-0.037003</td>\n",
              "      <td>0.042924</td>\n",
              "    </tr>\n",
              "    <tr>\n",
              "      <th>std</th>\n",
              "      <td>1.109474</td>\n",
              "      <td>0.981014</td>\n",
              "      <td>0.972496</td>\n",
              "      <td>0.995919</td>\n",
              "      <td>1.019201</td>\n",
              "      <td>1.024542</td>\n",
              "      <td>0.998343</td>\n",
              "    </tr>\n",
              "    <tr>\n",
              "      <th>min</th>\n",
              "      <td>-2.435722</td>\n",
              "      <td>-2.343076</td>\n",
              "      <td>-1.827711</td>\n",
              "      <td>-2.400715</td>\n",
              "      <td>-2.687277</td>\n",
              "      <td>-2.282722</td>\n",
              "      <td>-1.116024</td>\n",
              "    </tr>\n",
              "    <tr>\n",
              "      <th>25%</th>\n",
              "      <td>-1.069045</td>\n",
              "      <td>-0.705630</td>\n",
              "      <td>-0.959027</td>\n",
              "      <td>-0.888507</td>\n",
              "      <td>-0.515447</td>\n",
              "      <td>-0.768672</td>\n",
              "      <td>-1.116024</td>\n",
              "    </tr>\n",
              "    <tr>\n",
              "      <th>50%</th>\n",
              "      <td>-0.066815</td>\n",
              "      <td>-0.214396</td>\n",
              "      <td>-0.090343</td>\n",
              "      <td>0.119633</td>\n",
              "      <td>0.027510</td>\n",
              "      <td>-0.069879</td>\n",
              "      <td>0.896038</td>\n",
              "    </tr>\n",
              "    <tr>\n",
              "      <th>75%</th>\n",
              "      <td>0.753191</td>\n",
              "      <td>0.604327</td>\n",
              "      <td>0.778341</td>\n",
              "      <td>0.623702</td>\n",
              "      <td>0.570467</td>\n",
              "      <td>0.778654</td>\n",
              "      <td>0.896038</td>\n",
              "    </tr>\n",
              "    <tr>\n",
              "      <th>max</th>\n",
              "      <td>2.119868</td>\n",
              "      <td>2.078028</td>\n",
              "      <td>1.647025</td>\n",
              "      <td>1.631841</td>\n",
              "      <td>1.656382</td>\n",
              "      <td>2.026498</td>\n",
              "      <td>0.896038</td>\n",
              "    </tr>\n",
              "  </tbody>\n",
              "</table>\n",
              "</div>"
            ],
            "text/plain": [
              "        GRE Score  TOEFL Score  University Rating         SOP        LOR   \\\n",
              "count  125.000000   125.000000         125.000000  125.000000  125.000000   \n",
              "mean    -0.095242    -0.076851           0.034747   -0.029572    0.040541   \n",
              "std      1.109474     0.981014           0.972496    0.995919    1.019201   \n",
              "min     -2.435722    -2.343076          -1.827711   -2.400715   -2.687277   \n",
              "25%     -1.069045    -0.705630          -0.959027   -0.888507   -0.515447   \n",
              "50%     -0.066815    -0.214396          -0.090343    0.119633    0.027510   \n",
              "75%      0.753191     0.604327           0.778341    0.623702    0.570467   \n",
              "max      2.119868     2.078028           1.647025    1.631841    1.656382   \n",
              "\n",
              "             CGPA    Research  \n",
              "count  125.000000  125.000000  \n",
              "mean    -0.037003    0.042924  \n",
              "std      1.024542    0.998343  \n",
              "min     -2.282722   -1.116024  \n",
              "25%     -0.768672   -1.116024  \n",
              "50%     -0.069879    0.896038  \n",
              "75%      0.778654    0.896038  \n",
              "max      2.026498    0.896038  "
            ]
          },
          "metadata": {
            "tags": []
          },
          "execution_count": 11
        }
      ]
    },
    {
      "cell_type": "code",
      "metadata": {
        "id": "6c2SV75H2lJT"
      },
      "source": [
        "# function to design the model\n",
        "def design_model(feature_data):\n",
        "\tmodel = Sequential()\n",
        "\tnum_features = feature_data.shape[1]\n",
        "\tinput = tf.keras.Input(shape=(num_features))\n",
        "\tmodel.add(input)\n",
        "\t# this model has two hidden layers and two dropout layers\n",
        "\t# relu activation function is used at both hidden layers\n",
        "\thidden_layer = layers.Dense(16, activation='relu')\n",
        "\tmodel.add(hidden_layer)\n",
        "\tmodel.add(layers.Dropout(0.1))\n",
        "\thidden_layer_2 = layers.Dense(8, activation='relu')\n",
        "\tmodel.add(hidden_layer_2)\n",
        "\tmodel.add(layers.Dropout(0.2))\n",
        "\tmodel.add(layers.Dense(1))\n",
        "\n",
        "\t# using an adam optimizer with a learning rate of 0.005\n",
        "\t# using mean-squared error as our loss function and mean average error as our metric\n",
        "\topt = keras.optimizers.Adam(learning_rate=0.005)\n",
        "\tmodel.compile(loss='mse', metrics=['mae'], optimizer=opt)\n",
        "\treturn model"
      ],
      "execution_count": 12,
      "outputs": []
    },
    {
      "cell_type": "code",
      "metadata": {
        "colab": {
          "base_uri": "https://localhost:8080/"
        },
        "id": "RQRVcgad2k8C",
        "outputId": "22b4c6de-1d6f-4d68-be50-1bdc06351365"
      },
      "source": [
        "# apply the model to the scaled training data\n",
        "model = design_model(features_train_scale)\n",
        "(model.summary())\n"
      ],
      "execution_count": 14,
      "outputs": [
        {
          "output_type": "stream",
          "text": [
            "WARNING:tensorflow:Please add `keras.layers.InputLayer` instead of `keras.Input` to Sequential model. `keras.Input` is intended to be used by Functional model.\n",
            "Model: \"sequential_2\"\n",
            "_________________________________________________________________\n",
            "Layer (type)                 Output Shape              Param #   \n",
            "=================================================================\n",
            "dense_6 (Dense)              (None, 16)                128       \n",
            "_________________________________________________________________\n",
            "dropout_4 (Dropout)          (None, 16)                0         \n",
            "_________________________________________________________________\n",
            "dense_7 (Dense)              (None, 8)                 136       \n",
            "_________________________________________________________________\n",
            "dropout_5 (Dropout)          (None, 8)                 0         \n",
            "_________________________________________________________________\n",
            "dense_8 (Dense)              (None, 1)                 9         \n",
            "=================================================================\n",
            "Total params: 273\n",
            "Trainable params: 273\n",
            "Non-trainable params: 0\n",
            "_________________________________________________________________\n"
          ],
          "name": "stdout"
        }
      ]
    },
    {
      "cell_type": "code",
      "metadata": {
        "colab": {
          "base_uri": "https://localhost:8080/"
        },
        "id": "AryRMNXe2kud",
        "outputId": "891f81e0-4e46-40ce-8e2b-554ae892c86c"
      },
      "source": [
        "# apply early stopping for efficiency\n",
        "es = EarlyStopping(monitor='val_loss', mode='min', verbose=1, patience=20)\n",
        "\n",
        "# fit the model with 100 epochs and a batch size of 8\n",
        "# validation split at 0.25\n",
        "history = model.fit(features_train_scale, labels_train.to_numpy(), epochs=100, batch_size=8, verbose=1, validation_split=0.25, callbacks=[es])\n",
        "\n",
        "# evaluate the model\n",
        "val_mse, val_mae = model.evaluate(features_test_scale, labels_test.to_numpy(), verbose = 0)\n"
      ],
      "execution_count": 15,
      "outputs": [
        {
          "output_type": "stream",
          "text": [
            "Epoch 1/100\n",
            "36/36 [==============================] - 1s 5ms/step - loss: 0.3275 - mae: 0.4543 - val_loss: 0.0512 - val_mae: 0.1886\n",
            "Epoch 2/100\n",
            "36/36 [==============================] - 0s 2ms/step - loss: 0.1074 - mae: 0.2630 - val_loss: 0.0292 - val_mae: 0.1386\n",
            "Epoch 3/100\n",
            "36/36 [==============================] - 0s 2ms/step - loss: 0.0702 - mae: 0.2069 - val_loss: 0.0228 - val_mae: 0.1264\n",
            "Epoch 4/100\n",
            "36/36 [==============================] - 0s 2ms/step - loss: 0.0513 - mae: 0.1736 - val_loss: 0.0134 - val_mae: 0.0886\n",
            "Epoch 5/100\n",
            "36/36 [==============================] - 0s 2ms/step - loss: 0.0391 - mae: 0.1501 - val_loss: 0.0160 - val_mae: 0.1110\n",
            "Epoch 6/100\n",
            "36/36 [==============================] - 0s 2ms/step - loss: 0.0311 - mae: 0.1395 - val_loss: 0.0100 - val_mae: 0.0810\n",
            "Epoch 7/100\n",
            "36/36 [==============================] - 0s 2ms/step - loss: 0.0265 - mae: 0.1264 - val_loss: 0.0093 - val_mae: 0.0785\n",
            "Epoch 8/100\n",
            "36/36 [==============================] - 0s 2ms/step - loss: 0.0186 - mae: 0.1096 - val_loss: 0.0076 - val_mae: 0.0675\n",
            "Epoch 9/100\n",
            "36/36 [==============================] - 0s 2ms/step - loss: 0.0190 - mae: 0.1106 - val_loss: 0.0070 - val_mae: 0.0629\n",
            "Epoch 10/100\n",
            "36/36 [==============================] - 0s 2ms/step - loss: 0.0163 - mae: 0.1013 - val_loss: 0.0063 - val_mae: 0.0596\n",
            "Epoch 11/100\n",
            "36/36 [==============================] - 0s 2ms/step - loss: 0.0143 - mae: 0.0947 - val_loss: 0.0069 - val_mae: 0.0671\n",
            "Epoch 12/100\n",
            "36/36 [==============================] - 0s 2ms/step - loss: 0.0129 - mae: 0.0892 - val_loss: 0.0057 - val_mae: 0.0581\n",
            "Epoch 13/100\n",
            "36/36 [==============================] - 0s 2ms/step - loss: 0.0140 - mae: 0.0941 - val_loss: 0.0053 - val_mae: 0.0528\n",
            "Epoch 14/100\n",
            "36/36 [==============================] - 0s 2ms/step - loss: 0.0092 - mae: 0.0769 - val_loss: 0.0059 - val_mae: 0.0603\n",
            "Epoch 15/100\n",
            "36/36 [==============================] - 0s 2ms/step - loss: 0.0106 - mae: 0.0814 - val_loss: 0.0058 - val_mae: 0.0588\n",
            "Epoch 16/100\n",
            "36/36 [==============================] - 0s 2ms/step - loss: 0.0099 - mae: 0.0772 - val_loss: 0.0055 - val_mae: 0.0572\n",
            "Epoch 17/100\n",
            "36/36 [==============================] - 0s 2ms/step - loss: 0.0095 - mae: 0.0771 - val_loss: 0.0052 - val_mae: 0.0517\n",
            "Epoch 18/100\n",
            "36/36 [==============================] - 0s 3ms/step - loss: 0.0097 - mae: 0.0757 - val_loss: 0.0050 - val_mae: 0.0519\n",
            "Epoch 19/100\n",
            "36/36 [==============================] - 0s 2ms/step - loss: 0.0100 - mae: 0.0788 - val_loss: 0.0052 - val_mae: 0.0471\n",
            "Epoch 20/100\n",
            "36/36 [==============================] - 0s 2ms/step - loss: 0.0077 - mae: 0.0679 - val_loss: 0.0050 - val_mae: 0.0486\n",
            "Epoch 21/100\n",
            "36/36 [==============================] - 0s 2ms/step - loss: 0.0082 - mae: 0.0719 - val_loss: 0.0052 - val_mae: 0.0540\n",
            "Epoch 22/100\n",
            "36/36 [==============================] - 0s 2ms/step - loss: 0.0096 - mae: 0.0745 - val_loss: 0.0056 - val_mae: 0.0570\n",
            "Epoch 23/100\n",
            "36/36 [==============================] - 0s 2ms/step - loss: 0.0081 - mae: 0.0690 - val_loss: 0.0054 - val_mae: 0.0540\n",
            "Epoch 24/100\n",
            "36/36 [==============================] - 0s 2ms/step - loss: 0.0082 - mae: 0.0673 - val_loss: 0.0051 - val_mae: 0.0521\n",
            "Epoch 25/100\n",
            "36/36 [==============================] - 0s 2ms/step - loss: 0.0080 - mae: 0.0686 - val_loss: 0.0052 - val_mae: 0.0533\n",
            "Epoch 26/100\n",
            "36/36 [==============================] - 0s 2ms/step - loss: 0.0077 - mae: 0.0669 - val_loss: 0.0059 - val_mae: 0.0613\n",
            "Epoch 27/100\n",
            "36/36 [==============================] - 0s 2ms/step - loss: 0.0089 - mae: 0.0736 - val_loss: 0.0047 - val_mae: 0.0456\n",
            "Epoch 28/100\n",
            "36/36 [==============================] - 0s 2ms/step - loss: 0.0073 - mae: 0.0659 - val_loss: 0.0055 - val_mae: 0.0586\n",
            "Epoch 29/100\n",
            "36/36 [==============================] - 0s 2ms/step - loss: 0.0079 - mae: 0.0667 - val_loss: 0.0051 - val_mae: 0.0545\n",
            "Epoch 30/100\n",
            "36/36 [==============================] - 0s 2ms/step - loss: 0.0078 - mae: 0.0684 - val_loss: 0.0054 - val_mae: 0.0563\n",
            "Epoch 31/100\n",
            "36/36 [==============================] - 0s 2ms/step - loss: 0.0082 - mae: 0.0691 - val_loss: 0.0053 - val_mae: 0.0559\n",
            "Epoch 32/100\n",
            "36/36 [==============================] - 0s 2ms/step - loss: 0.0087 - mae: 0.0719 - val_loss: 0.0055 - val_mae: 0.0579\n",
            "Epoch 33/100\n",
            "36/36 [==============================] - 0s 2ms/step - loss: 0.0081 - mae: 0.0707 - val_loss: 0.0055 - val_mae: 0.0591\n",
            "Epoch 34/100\n",
            "36/36 [==============================] - 0s 2ms/step - loss: 0.0078 - mae: 0.0686 - val_loss: 0.0078 - val_mae: 0.0752\n",
            "Epoch 35/100\n",
            "36/36 [==============================] - 0s 2ms/step - loss: 0.0089 - mae: 0.0740 - val_loss: 0.0048 - val_mae: 0.0519\n",
            "Epoch 36/100\n",
            "36/36 [==============================] - 0s 2ms/step - loss: 0.0080 - mae: 0.0701 - val_loss: 0.0048 - val_mae: 0.0502\n",
            "Epoch 37/100\n",
            "36/36 [==============================] - 0s 2ms/step - loss: 0.0079 - mae: 0.0692 - val_loss: 0.0045 - val_mae: 0.0462\n",
            "Epoch 38/100\n",
            "36/36 [==============================] - 0s 2ms/step - loss: 0.0084 - mae: 0.0703 - val_loss: 0.0047 - val_mae: 0.0468\n",
            "Epoch 39/100\n",
            "36/36 [==============================] - 0s 2ms/step - loss: 0.0072 - mae: 0.0648 - val_loss: 0.0050 - val_mae: 0.0516\n",
            "Epoch 40/100\n",
            "36/36 [==============================] - 0s 2ms/step - loss: 0.0081 - mae: 0.0694 - val_loss: 0.0056 - val_mae: 0.0605\n",
            "Epoch 41/100\n",
            "36/36 [==============================] - 0s 2ms/step - loss: 0.0084 - mae: 0.0692 - val_loss: 0.0048 - val_mae: 0.0510\n",
            "Epoch 42/100\n",
            "36/36 [==============================] - 0s 2ms/step - loss: 0.0069 - mae: 0.0659 - val_loss: 0.0052 - val_mae: 0.0574\n",
            "Epoch 43/100\n",
            "36/36 [==============================] - 0s 2ms/step - loss: 0.0072 - mae: 0.0627 - val_loss: 0.0048 - val_mae: 0.0519\n",
            "Epoch 44/100\n",
            "36/36 [==============================] - 0s 3ms/step - loss: 0.0082 - mae: 0.0695 - val_loss: 0.0047 - val_mae: 0.0486\n",
            "Epoch 45/100\n",
            "36/36 [==============================] - 0s 2ms/step - loss: 0.0070 - mae: 0.0655 - val_loss: 0.0045 - val_mae: 0.0461\n",
            "Epoch 46/100\n",
            "36/36 [==============================] - 0s 2ms/step - loss: 0.0078 - mae: 0.0688 - val_loss: 0.0048 - val_mae: 0.0498\n",
            "Epoch 47/100\n",
            "36/36 [==============================] - 0s 2ms/step - loss: 0.0076 - mae: 0.0671 - val_loss: 0.0051 - val_mae: 0.0545\n",
            "Epoch 48/100\n",
            "36/36 [==============================] - 0s 2ms/step - loss: 0.0083 - mae: 0.0707 - val_loss: 0.0047 - val_mae: 0.0498\n",
            "Epoch 49/100\n",
            "36/36 [==============================] - 0s 2ms/step - loss: 0.0073 - mae: 0.0650 - val_loss: 0.0044 - val_mae: 0.0444\n",
            "Epoch 50/100\n",
            "36/36 [==============================] - 0s 2ms/step - loss: 0.0073 - mae: 0.0656 - val_loss: 0.0048 - val_mae: 0.0526\n",
            "Epoch 51/100\n",
            "36/36 [==============================] - 0s 2ms/step - loss: 0.0077 - mae: 0.0677 - val_loss: 0.0051 - val_mae: 0.0569\n",
            "Epoch 52/100\n",
            "36/36 [==============================] - 0s 2ms/step - loss: 0.0070 - mae: 0.0643 - val_loss: 0.0044 - val_mae: 0.0457\n",
            "Epoch 53/100\n",
            "36/36 [==============================] - 0s 2ms/step - loss: 0.0067 - mae: 0.0636 - val_loss: 0.0047 - val_mae: 0.0532\n",
            "Epoch 54/100\n",
            "36/36 [==============================] - 0s 2ms/step - loss: 0.0076 - mae: 0.0668 - val_loss: 0.0060 - val_mae: 0.0646\n",
            "Epoch 55/100\n",
            "36/36 [==============================] - 0s 2ms/step - loss: 0.0073 - mae: 0.0663 - val_loss: 0.0046 - val_mae: 0.0507\n",
            "Epoch 56/100\n",
            "36/36 [==============================] - 0s 2ms/step - loss: 0.0081 - mae: 0.0700 - val_loss: 0.0050 - val_mae: 0.0563\n",
            "Epoch 57/100\n",
            "36/36 [==============================] - 0s 2ms/step - loss: 0.0075 - mae: 0.0677 - val_loss: 0.0050 - val_mae: 0.0525\n",
            "Epoch 58/100\n",
            "36/36 [==============================] - 0s 2ms/step - loss: 0.0070 - mae: 0.0642 - val_loss: 0.0050 - val_mae: 0.0500\n",
            "Epoch 59/100\n",
            "36/36 [==============================] - 0s 2ms/step - loss: 0.0070 - mae: 0.0636 - val_loss: 0.0068 - val_mae: 0.0688\n",
            "Epoch 60/100\n",
            "36/36 [==============================] - 0s 3ms/step - loss: 0.0075 - mae: 0.0677 - val_loss: 0.0059 - val_mae: 0.0630\n",
            "Epoch 61/100\n",
            "36/36 [==============================] - 0s 2ms/step - loss: 0.0067 - mae: 0.0632 - val_loss: 0.0046 - val_mae: 0.0457\n",
            "Epoch 62/100\n",
            "36/36 [==============================] - 0s 2ms/step - loss: 0.0073 - mae: 0.0655 - val_loss: 0.0045 - val_mae: 0.0458\n",
            "Epoch 63/100\n",
            "36/36 [==============================] - 0s 2ms/step - loss: 0.0078 - mae: 0.0670 - val_loss: 0.0048 - val_mae: 0.0522\n",
            "Epoch 64/100\n",
            "36/36 [==============================] - 0s 2ms/step - loss: 0.0064 - mae: 0.0601 - val_loss: 0.0046 - val_mae: 0.0469\n",
            "Epoch 65/100\n",
            "36/36 [==============================] - 0s 2ms/step - loss: 0.0069 - mae: 0.0630 - val_loss: 0.0061 - val_mae: 0.0638\n",
            "Epoch 66/100\n",
            "36/36 [==============================] - 0s 2ms/step - loss: 0.0076 - mae: 0.0675 - val_loss: 0.0057 - val_mae: 0.0544\n",
            "Epoch 67/100\n",
            "36/36 [==============================] - 0s 2ms/step - loss: 0.0075 - mae: 0.0665 - val_loss: 0.0062 - val_mae: 0.0596\n",
            "Epoch 68/100\n",
            "36/36 [==============================] - 0s 2ms/step - loss: 0.0072 - mae: 0.0655 - val_loss: 0.0051 - val_mae: 0.0511\n",
            "Epoch 69/100\n",
            "36/36 [==============================] - 0s 2ms/step - loss: 0.0083 - mae: 0.0699 - val_loss: 0.0048 - val_mae: 0.0514\n",
            "Epoch 00069: early stopping\n"
          ],
          "name": "stdout"
        }
      ]
    },
    {
      "cell_type": "code",
      "metadata": {
        "colab": {
          "base_uri": "https://localhost:8080/"
        },
        "id": "doaRm7mi2kfG",
        "outputId": "91b20837-3d81-4da1-9881-9c0d4bee3b51"
      },
      "source": [
        "# view the MAE performance\n",
        "print(\"MAE: \", val_mae)"
      ],
      "execution_count": 16,
      "outputs": [
        {
          "output_type": "stream",
          "text": [
            "MAE:  0.05256049335002899\n"
          ],
          "name": "stdout"
        }
      ]
    },
    {
      "cell_type": "code",
      "metadata": {
        "colab": {
          "base_uri": "https://localhost:8080/"
        },
        "id": "uzp-0fVE2kQM",
        "outputId": "8e300065-c1d9-4040-c7ea-bbfc19e6da02"
      },
      "source": [
        "# evauate r-squared score\n",
        "y_pred = model.predict(features_test_scale)\n",
        "\n",
        "print(r2_score(labels_test,y_pred))"
      ],
      "execution_count": 17,
      "outputs": [
        {
          "output_type": "stream",
          "text": [
            "0.7297649682354207\n"
          ],
          "name": "stdout"
        }
      ]
    },
    {
      "cell_type": "code",
      "metadata": {
        "colab": {
          "base_uri": "https://localhost:8080/",
          "height": 295
        },
        "id": "LUXrM36b3Fuy",
        "outputId": "82c5e670-ec3d-45b5-831b-d31473938fb8"
      },
      "source": [
        "# plot MAE and val_MAE over each epoch\n",
        "fig = plt.figure()\n",
        "ax1 = fig.add_subplot(2, 1, 1)\n",
        "ax1.plot(history.history['mae'])\n",
        "ax1.plot(history.history['val_mae'])\n",
        "ax1.set_title('model mae')\n",
        "ax1.set_ylabel('MAE')\n",
        "ax1.set_xlabel('epoch')\n",
        "ax1.legend(['train', 'validation'], loc='upper left')\n",
        "\n",
        "# Plot loss and val_loss over each epoch\n",
        "ax2 = fig.add_subplot(2, 1, 2)\n",
        "ax2.plot(history.history['loss'])\n",
        "ax2.plot(history.history['val_loss'])\n",
        "ax2.set_title('model loss')\n",
        "ax2.set_ylabel('loss')\n",
        "ax2.set_xlabel('epoch')\n",
        "ax2.legend(['train', 'validation'], loc='upper left')\n",
        "\n",
        "plt.show()"
      ],
      "execution_count": 18,
      "outputs": [
        {
          "output_type": "display_data",
          "data": {
            "image/png": "[encoded data removed]",
            "text/plain": [
              "<Figure size 432x288 with 2 Axes>"
            ]
          },
          "metadata": {
            "tags": [],
            "needs_background": "light"
          }
        }
      ]
    },
    {
      "cell_type": "code",
      "metadata": {
        "id": "3qi4RLq93-3u"
      },
      "source": [
        ""
      ],
      "execution_count": null,
      "outputs": []
    }
  ]
}